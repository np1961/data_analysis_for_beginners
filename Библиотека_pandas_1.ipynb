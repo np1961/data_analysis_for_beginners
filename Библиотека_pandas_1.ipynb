{
 "cells": [
  {
   "cell_type": "code",
   "execution_count": 1,
   "id": "f2ff9987",
   "metadata": {},
   "outputs": [],
   "source": [
    "\n",
    "import numpy as np\n",
    "import pandas as pd\n",
    "from warnings import filterwarnings\n",
    "filterwarnings('ignore')"
   ]
  },
  {
   "cell_type": "markdown",
   "id": "04c1a49e",
   "metadata": {},
   "source": [
    "### Сегодня мы вкратце познакомитесь с библиотекой pandas, это является своего рода надстройкой numpy.\n",
    "### Надеюсь, у вас получилось изобразить многомерный массив, а если и не получилось, то они нам совершенно не понадобятся, так как pandas — это библиотека для работы с двухмерными и одномерными массивами, библиотека для работы с таблицами и с отдельными столбцами. Благодаря множеству функций и методов мы получаем возможность легко, интуитивно понятно обрабатывать данные. Два ключевых объекта — это DataFrame и Series.  "
   ]
  },
  {
   "cell_type": "markdown",
   "id": "ea424927",
   "metadata": {},
   "source": [
    "\n",
    "### Давайте поговорим о плюсах и минусах этой библиотеки. Для этого сравним её с двумя другими популярными инструментами для работы с таблицами — это Excel и SQL.\n",
    "\n",
    "### 1) Наличие графического интерфейса: из этих троих он есть только у Excel.\n",
    "\n",
    "### 2) Максимальное число строк и столбцов: здесь ограничения есть только у Excel.\n",
    "\n",
    "### 3) Скорость: Excel — низкая, pandas — средняя, SQL — высокая.\n",
    "\n",
    "### 4) Excel позволяет работать сразу, без навыков и знания языков программирования , а для pandas и SQL нужно всё-таки поучиться."
   ]
  },
  {
   "cell_type": "code",
   "execution_count": null,
   "id": "7f083e95",
   "metadata": {},
   "outputs": [],
   "source": []
  },
  {
   "cell_type": "markdown",
   "id": "b74ee95e",
   "metadata": {},
   "source": [
    "Series-Это одномерный массив, который может иметь не более одного столбца, количество index при этом не ограничено. Также имеет одну ось — нулевую; зарезервированный индекс вдоль этой оси расположены индексы строк. Series — это столбец с данными, каждая строка которого имеет свой индекс, кстати, не обязательно уникальный."
   ]
  },
  {
   "cell_type": "code",
   "execution_count": null,
   "id": "7666cb1e",
   "metadata": {},
   "outputs": [],
   "source": []
  },
  {
   "cell_type": "markdown",
   "id": "80342bf0",
   "metadata": {},
   "source": [
    "\n",
    "`pd.Series` Можно рассматривать как расширенный массив NumPy с индексами.\n",
    "\n",
    "### Создание экземпляра pd.Series\n",
    "\n",
    "Для создания экземпляра `pd.Series` используется конструктор `pd.Series()`.  Основные аргументы:\n",
    "\n",
    "* **`data`**:  Данные для серии.  Может быть:\n",
    "    * Список, массив NumPy, словарь, скалярное значение.\n",
    "    * Если это словарь, ключи становятся индексами.\n",
    "\n",
    "* **`index`**:  Индексы для элементов серии.  Если не указан, создается индекс по умолчанию (0, 1, 2,...).  Должен быть той же длины, что и `data`.\n",
    "\n",
    "* **`dtype`**:  Тип данных для серии.  Если не указан, Pandas пытается вывести тип данных из данных.\n",
    "\n",
    "* **`name`**:  Имя для серии.\n",
    "\n",
    "* **`copy`**:  (по умолчанию None) Использовать если входящие данные Series или np.array.\n",
    "\n",
    "\n",
    "### Примеры:\n",
    "\n"
   ]
  },
  {
   "cell_type": "code",
   "execution_count": null,
   "id": "1ab457ee",
   "metadata": {},
   "outputs": [],
   "source": []
  },
  {
   "cell_type": "code",
   "execution_count": 2,
   "id": "ee24757c",
   "metadata": {},
   "outputs": [
    {
     "name": "stdout",
     "output_type": "stream",
     "text": [
      "a    10\n",
      "b    20\n",
      "c    30\n",
      "Name: Numbers, dtype: int32\n"
     ]
    }
   ],
   "source": [
    "# 1. Из списка:\n",
    "\n",
    "s = pd.Series([10, 20, 30], index=['a', 'b', 'c'], dtype='int32', name='Numbers')\n",
    "print(s)"
   ]
  },
  {
   "cell_type": "code",
   "execution_count": null,
   "id": "c798900d",
   "metadata": {},
   "outputs": [],
   "source": []
  },
  {
   "cell_type": "code",
   "execution_count": 3,
   "id": "397b2025",
   "metadata": {},
   "outputs": [
    {
     "name": "stdout",
     "output_type": "stream",
     "text": [
      "a    10\n",
      "b    20\n",
      "c    30\n",
      "dtype: int64\n"
     ]
    }
   ],
   "source": [
    "# 2. Из словаря:\n",
    "\n",
    "s = pd.Series({'a': 10, 'b': 20, 'c': 30})\n",
    "print(s)"
   ]
  },
  {
   "cell_type": "code",
   "execution_count": null,
   "id": "d1980ec8",
   "metadata": {},
   "outputs": [],
   "source": []
  },
  {
   "cell_type": "code",
   "execution_count": null,
   "id": "7f9869af",
   "metadata": {},
   "outputs": [],
   "source": []
  },
  {
   "cell_type": "code",
   "execution_count": null,
   "id": "c732553e",
   "metadata": {},
   "outputs": [],
   "source": []
  },
  {
   "cell_type": "code",
   "execution_count": 4,
   "id": "8550e1ff",
   "metadata": {
    "scrolled": true
   },
   "outputs": [
    {
     "data": {
      "text/plain": [
       "0     19\n",
       "1      9\n",
       "2     15\n",
       "3     12\n",
       "4     11\n",
       "5      8\n",
       "6     11\n",
       "7     18\n",
       "8     11\n",
       "9     17\n",
       "10    19\n",
       "11    14\n",
       "12    15\n",
       "13    14\n",
       "14    18\n",
       "Name: numbers, dtype: int64"
      ]
     },
     "execution_count": 4,
     "metadata": {},
     "output_type": "execute_result"
    }
   ],
   "source": [
    "# Из np.array\n",
    "series=pd.Series(np.random.randint(5,20, 15), name='numbers')\n",
    "series"
   ]
  },
  {
   "cell_type": "code",
   "execution_count": null,
   "id": "4f30760e",
   "metadata": {},
   "outputs": [],
   "source": []
  },
  {
   "cell_type": "code",
   "execution_count": 5,
   "id": "6866f1e4",
   "metadata": {
    "scrolled": true
   },
   "outputs": [
    {
     "name": "stdout",
     "output_type": "stream",
     "text": [
      "Trying to coerce float values to integers\n",
      "попытка привести значения с плавающей запятой к целым числам\n"
     ]
    }
   ],
   "source": [
    "# 1. Давайте попробуем сделать тип данных int32 и отправить на вход float:\n",
    "# Ожидается что будет ошибка\n",
    "try:\n",
    "    s = pd.Series([10, 20, 30.44 ], index=['a', 'b', 'c'], dtype='int32', name='Numbers')\n",
    "except ValueError as error:\n",
    "    print(error)\n",
    "    print(\"попытка привести значения с плавающей запятой к целым числам\")\n"
   ]
  },
  {
   "cell_type": "code",
   "execution_count": null,
   "id": "b996f762",
   "metadata": {},
   "outputs": [],
   "source": []
  },
  {
   "cell_type": "code",
   "execution_count": null,
   "id": "fabfb180",
   "metadata": {},
   "outputs": [],
   "source": []
  },
  {
   "cell_type": "code",
   "execution_count": 6,
   "id": "4c96adf5",
   "metadata": {},
   "outputs": [
    {
     "data": {
      "text/plain": [
       "array([1, 2, 3, 4, 5, 6, 7, 8])"
      ]
     },
     "execution_count": 6,
     "metadata": {},
     "output_type": "execute_result"
    }
   ],
   "source": [
    "# Например у нас есть np.array из него сделаем pd.Series\n",
    "my_array=np.array([1,2,3,4,5,6,7,8])\n",
    "my_array"
   ]
  },
  {
   "cell_type": "code",
   "execution_count": 7,
   "id": "00359752",
   "metadata": {},
   "outputs": [],
   "source": [
    "series=pd.Series(my_array)"
   ]
  },
  {
   "cell_type": "code",
   "execution_count": 8,
   "id": "e301ec33",
   "metadata": {},
   "outputs": [],
   "source": [
    "#Сделаем изменение в нём\n",
    "series[4]=48"
   ]
  },
  {
   "cell_type": "code",
   "execution_count": 9,
   "id": "d7d2ef53",
   "metadata": {},
   "outputs": [
    {
     "data": {
      "text/plain": [
       "array([ 1,  2,  3,  4, 48,  6,  7,  8])"
      ]
     },
     "execution_count": 9,
     "metadata": {},
     "output_type": "execute_result"
    }
   ],
   "source": [
    "my_array"
   ]
  },
  {
   "cell_type": "code",
   "execution_count": 10,
   "id": "1826d2ed",
   "metadata": {},
   "outputs": [],
   "source": [
    "# Как видим изменился и np.array , и это не то что мы хотели \n",
    "# чтобы такого не было надо передать в pd.Series аргумент copy=True "
   ]
  },
  {
   "cell_type": "code",
   "execution_count": 11,
   "id": "16003334",
   "metadata": {},
   "outputs": [
    {
     "data": {
      "text/plain": [
       "0     1\n",
       "1     2\n",
       "2     3\n",
       "3     4\n",
       "4    48\n",
       "5     6\n",
       "6     7\n",
       "7     8\n",
       "dtype: int64"
      ]
     },
     "execution_count": 11,
     "metadata": {},
     "output_type": "execute_result"
    }
   ],
   "source": [
    "series=pd.Series(my_array, copy=True)\n",
    "series"
   ]
  },
  {
   "cell_type": "code",
   "execution_count": 12,
   "id": "4c8197e0",
   "metadata": {},
   "outputs": [
    {
     "data": {
      "text/plain": [
       "0       1\n",
       "1       2\n",
       "2       3\n",
       "3       4\n",
       "4      48\n",
       "5       6\n",
       "6    1000\n",
       "7       8\n",
       "dtype: int64"
      ]
     },
     "execution_count": 12,
     "metadata": {},
     "output_type": "execute_result"
    }
   ],
   "source": [
    "series[6]=1000\n",
    "series"
   ]
  },
  {
   "cell_type": "code",
   "execution_count": 13,
   "id": "779a45e7",
   "metadata": {},
   "outputs": [
    {
     "data": {
      "text/plain": [
       "array([ 1,  2,  3,  4, 48,  6,  7,  8])"
      ]
     },
     "execution_count": 13,
     "metadata": {},
     "output_type": "execute_result"
    }
   ],
   "source": [
    "# Тут уже изменение не коснулось my_array\n",
    "my_array"
   ]
  },
  {
   "cell_type": "code",
   "execution_count": null,
   "id": "da0c81a1",
   "metadata": {},
   "outputs": [],
   "source": []
  },
  {
   "cell_type": "code",
   "execution_count": null,
   "id": "3202857e",
   "metadata": {},
   "outputs": [],
   "source": []
  },
  {
   "cell_type": "markdown",
   "id": "56c4de0d",
   "metadata": {},
   "source": [
    "### рассмотрим арифметические операторы"
   ]
  },
  {
   "cell_type": "code",
   "execution_count": 14,
   "id": "5ba706df",
   "metadata": {},
   "outputs": [
    {
     "data": {
      "text/plain": [
       "0    7\n",
       "1    5\n",
       "2    1\n",
       "3    3\n",
       "4    5\n",
       "dtype: int64"
      ]
     },
     "execution_count": 14,
     "metadata": {},
     "output_type": "execute_result"
    }
   ],
   "source": [
    "series=pd.Series(np.random.randint(1,10,5))\n",
    "series"
   ]
  },
  {
   "cell_type": "code",
   "execution_count": 15,
   "id": "0c9e473d",
   "metadata": {},
   "outputs": [
    {
     "data": {
      "text/plain": [
       "0    47\n",
       "1    45\n",
       "2    41\n",
       "3    43\n",
       "4    45\n",
       "dtype: int64"
      ]
     },
     "execution_count": 15,
     "metadata": {},
     "output_type": "execute_result"
    }
   ],
   "source": [
    "series+40"
   ]
  },
  {
   "cell_type": "code",
   "execution_count": 16,
   "id": "06b92ffb",
   "metadata": {},
   "outputs": [
    {
     "data": {
      "text/plain": [
       "0   -93\n",
       "1   -95\n",
       "2   -99\n",
       "3   -97\n",
       "4   -95\n",
       "dtype: int64"
      ]
     },
     "execution_count": 16,
     "metadata": {},
     "output_type": "execute_result"
    }
   ],
   "source": [
    "series-100"
   ]
  },
  {
   "cell_type": "code",
   "execution_count": 17,
   "id": "21999f2f",
   "metadata": {},
   "outputs": [
    {
     "data": {
      "text/plain": [
       "0    70\n",
       "1    50\n",
       "2    10\n",
       "3    30\n",
       "4    50\n",
       "dtype: int64"
      ]
     },
     "execution_count": 17,
     "metadata": {},
     "output_type": "execute_result"
    }
   ],
   "source": [
    "series*10"
   ]
  },
  {
   "cell_type": "code",
   "execution_count": 18,
   "id": "5ebe1088",
   "metadata": {},
   "outputs": [
    {
     "data": {
      "text/plain": [
       "0    0.7\n",
       "1    0.5\n",
       "2    0.1\n",
       "3    0.3\n",
       "4    0.5\n",
       "dtype: float64"
      ]
     },
     "execution_count": 18,
     "metadata": {},
     "output_type": "execute_result"
    }
   ],
   "source": [
    "series/10"
   ]
  },
  {
   "cell_type": "code",
   "execution_count": 19,
   "id": "b24f3e42",
   "metadata": {},
   "outputs": [
    {
     "data": {
      "text/plain": [
       "0    7\n",
       "1    5\n",
       "2    1\n",
       "3    3\n",
       "4    5\n",
       "dtype: int64"
      ]
     },
     "execution_count": 19,
     "metadata": {},
     "output_type": "execute_result"
    }
   ],
   "source": [
    "series%10"
   ]
  },
  {
   "cell_type": "code",
   "execution_count": 20,
   "id": "1cf3975d",
   "metadata": {},
   "outputs": [
    {
     "data": {
      "text/plain": [
       "0   NaN\n",
       "1   NaN\n",
       "2   NaN\n",
       "3   NaN\n",
       "4   NaN\n",
       "dtype: float64"
      ]
     },
     "execution_count": 20,
     "metadata": {},
     "output_type": "execute_result"
    }
   ],
   "source": [
    "series+np.nan"
   ]
  },
  {
   "cell_type": "code",
   "execution_count": 21,
   "id": "6d35ac33",
   "metadata": {},
   "outputs": [
    {
     "data": {
      "text/plain": [
       "0     8\n",
       "1     7\n",
       "2     4\n",
       "3     7\n",
       "4    10\n",
       "dtype: int64"
      ]
     },
     "execution_count": 21,
     "metadata": {},
     "output_type": "execute_result"
    }
   ],
   "source": [
    "series+[1,2,3,4,5]"
   ]
  },
  {
   "cell_type": "code",
   "execution_count": null,
   "id": "bd55df56",
   "metadata": {},
   "outputs": [],
   "source": []
  },
  {
   "cell_type": "code",
   "execution_count": null,
   "id": "4ae03955",
   "metadata": {},
   "outputs": [],
   "source": []
  },
  {
   "cell_type": "code",
   "execution_count": null,
   "id": "9613b2ed",
   "metadata": {},
   "outputs": [],
   "source": []
  },
  {
   "cell_type": "code",
   "execution_count": null,
   "id": "da3b8a8f",
   "metadata": {},
   "outputs": [],
   "source": []
  },
  {
   "cell_type": "markdown",
   "id": "98dd6bf3",
   "metadata": {},
   "source": [
    "\n",
    "# DataFrame — это двухмерный массив в виде таблицы, и это своего рода таблица, состоящая из Series. Первая ось имеет зарезервированное имя columns , а вторая index."
   ]
  },
  {
   "cell_type": "code",
   "execution_count": null,
   "id": "39ba0bd2",
   "metadata": {},
   "outputs": [],
   "source": []
  },
  {
   "cell_type": "code",
   "execution_count": 22,
   "id": "b7c72acd",
   "metadata": {
    "scrolled": true
   },
   "outputs": [
    {
     "data": {
      "text/html": [
       "<div>\n",
       "<style scoped>\n",
       "    .dataframe tbody tr th:only-of-type {\n",
       "        vertical-align: middle;\n",
       "    }\n",
       "\n",
       "    .dataframe tbody tr th {\n",
       "        vertical-align: top;\n",
       "    }\n",
       "\n",
       "    .dataframe thead th {\n",
       "        text-align: right;\n",
       "    }\n",
       "</style>\n",
       "<table border=\"1\" class=\"dataframe\">\n",
       "  <thead>\n",
       "    <tr style=\"text-align: right;\">\n",
       "      <th></th>\n",
       "      <th>numbers_0</th>\n",
       "      <th>numbers_1</th>\n",
       "      <th>numbers_2</th>\n",
       "      <th>numbers_3</th>\n",
       "      <th>numbers_4</th>\n",
       "    </tr>\n",
       "  </thead>\n",
       "  <tbody>\n",
       "    <tr>\n",
       "      <th>0</th>\n",
       "      <td>5</td>\n",
       "      <td>19</td>\n",
       "      <td>16</td>\n",
       "      <td>9</td>\n",
       "      <td>7</td>\n",
       "    </tr>\n",
       "    <tr>\n",
       "      <th>1</th>\n",
       "      <td>13</td>\n",
       "      <td>7</td>\n",
       "      <td>16</td>\n",
       "      <td>12</td>\n",
       "      <td>16</td>\n",
       "    </tr>\n",
       "    <tr>\n",
       "      <th>2</th>\n",
       "      <td>10</td>\n",
       "      <td>17</td>\n",
       "      <td>6</td>\n",
       "      <td>11</td>\n",
       "      <td>9</td>\n",
       "    </tr>\n",
       "    <tr>\n",
       "      <th>3</th>\n",
       "      <td>17</td>\n",
       "      <td>10</td>\n",
       "      <td>18</td>\n",
       "      <td>17</td>\n",
       "      <td>15</td>\n",
       "    </tr>\n",
       "    <tr>\n",
       "      <th>4</th>\n",
       "      <td>8</td>\n",
       "      <td>17</td>\n",
       "      <td>7</td>\n",
       "      <td>6</td>\n",
       "      <td>6</td>\n",
       "    </tr>\n",
       "    <tr>\n",
       "      <th>5</th>\n",
       "      <td>19</td>\n",
       "      <td>10</td>\n",
       "      <td>5</td>\n",
       "      <td>14</td>\n",
       "      <td>18</td>\n",
       "    </tr>\n",
       "    <tr>\n",
       "      <th>6</th>\n",
       "      <td>12</td>\n",
       "      <td>6</td>\n",
       "      <td>16</td>\n",
       "      <td>11</td>\n",
       "      <td>19</td>\n",
       "    </tr>\n",
       "    <tr>\n",
       "      <th>7</th>\n",
       "      <td>19</td>\n",
       "      <td>16</td>\n",
       "      <td>16</td>\n",
       "      <td>11</td>\n",
       "      <td>7</td>\n",
       "    </tr>\n",
       "    <tr>\n",
       "      <th>8</th>\n",
       "      <td>8</td>\n",
       "      <td>10</td>\n",
       "      <td>8</td>\n",
       "      <td>6</td>\n",
       "      <td>7</td>\n",
       "    </tr>\n",
       "    <tr>\n",
       "      <th>9</th>\n",
       "      <td>5</td>\n",
       "      <td>18</td>\n",
       "      <td>16</td>\n",
       "      <td>10</td>\n",
       "      <td>18</td>\n",
       "    </tr>\n",
       "    <tr>\n",
       "      <th>10</th>\n",
       "      <td>18</td>\n",
       "      <td>16</td>\n",
       "      <td>15</td>\n",
       "      <td>6</td>\n",
       "      <td>10</td>\n",
       "    </tr>\n",
       "    <tr>\n",
       "      <th>11</th>\n",
       "      <td>18</td>\n",
       "      <td>18</td>\n",
       "      <td>13</td>\n",
       "      <td>18</td>\n",
       "      <td>5</td>\n",
       "    </tr>\n",
       "    <tr>\n",
       "      <th>12</th>\n",
       "      <td>12</td>\n",
       "      <td>17</td>\n",
       "      <td>8</td>\n",
       "      <td>9</td>\n",
       "      <td>13</td>\n",
       "    </tr>\n",
       "    <tr>\n",
       "      <th>13</th>\n",
       "      <td>8</td>\n",
       "      <td>5</td>\n",
       "      <td>5</td>\n",
       "      <td>19</td>\n",
       "      <td>15</td>\n",
       "    </tr>\n",
       "    <tr>\n",
       "      <th>14</th>\n",
       "      <td>13</td>\n",
       "      <td>15</td>\n",
       "      <td>18</td>\n",
       "      <td>15</td>\n",
       "      <td>8</td>\n",
       "    </tr>\n",
       "    <tr>\n",
       "      <th>15</th>\n",
       "      <td>10</td>\n",
       "      <td>12</td>\n",
       "      <td>14</td>\n",
       "      <td>15</td>\n",
       "      <td>12</td>\n",
       "    </tr>\n",
       "    <tr>\n",
       "      <th>16</th>\n",
       "      <td>11</td>\n",
       "      <td>13</td>\n",
       "      <td>6</td>\n",
       "      <td>11</td>\n",
       "      <td>7</td>\n",
       "    </tr>\n",
       "    <tr>\n",
       "      <th>17</th>\n",
       "      <td>10</td>\n",
       "      <td>14</td>\n",
       "      <td>15</td>\n",
       "      <td>15</td>\n",
       "      <td>6</td>\n",
       "    </tr>\n",
       "    <tr>\n",
       "      <th>18</th>\n",
       "      <td>19</td>\n",
       "      <td>13</td>\n",
       "      <td>13</td>\n",
       "      <td>8</td>\n",
       "      <td>6</td>\n",
       "    </tr>\n",
       "    <tr>\n",
       "      <th>19</th>\n",
       "      <td>16</td>\n",
       "      <td>11</td>\n",
       "      <td>7</td>\n",
       "      <td>15</td>\n",
       "      <td>19</td>\n",
       "    </tr>\n",
       "  </tbody>\n",
       "</table>\n",
       "</div>"
      ],
      "text/plain": [
       "    numbers_0  numbers_1  numbers_2  numbers_3  numbers_4\n",
       "0           5         19         16          9          7\n",
       "1          13          7         16         12         16\n",
       "2          10         17          6         11          9\n",
       "3          17         10         18         17         15\n",
       "4           8         17          7          6          6\n",
       "5          19         10          5         14         18\n",
       "6          12          6         16         11         19\n",
       "7          19         16         16         11          7\n",
       "8           8         10          8          6          7\n",
       "9           5         18         16         10         18\n",
       "10         18         16         15          6         10\n",
       "11         18         18         13         18          5\n",
       "12         12         17          8          9         13\n",
       "13          8          5          5         19         15\n",
       "14         13         15         18         15          8\n",
       "15         10         12         14         15         12\n",
       "16         11         13          6         11          7\n",
       "17         10         14         15         15          6\n",
       "18         19         13         13          8          6\n",
       "19         16         11          7         15         19"
      ]
     },
     "execution_count": 22,
     "metadata": {},
     "output_type": "execute_result"
    }
   ],
   "source": [
    "df=pd.DataFrame({f\"numbers_{index}\":array for index,array in enumerate(np.random.randint(5,20,(5, 20)))})\n",
    "df"
   ]
  },
  {
   "cell_type": "code",
   "execution_count": null,
   "id": "5251c3d8",
   "metadata": {},
   "outputs": [],
   "source": []
  },
  {
   "cell_type": "markdown",
   "id": "2c4cc362",
   "metadata": {},
   "source": [
    "Можно получить np.array используя команду values или просто передать в функцию np.array"
   ]
  },
  {
   "cell_type": "code",
   "execution_count": 23,
   "id": "ef55870a",
   "metadata": {
    "scrolled": true
   },
   "outputs": [
    {
     "data": {
      "text/plain": [
       "array([[ 5, 19, 16,  9,  7],\n",
       "       [13,  7, 16, 12, 16],\n",
       "       [10, 17,  6, 11,  9],\n",
       "       [17, 10, 18, 17, 15],\n",
       "       [ 8, 17,  7,  6,  6],\n",
       "       [19, 10,  5, 14, 18],\n",
       "       [12,  6, 16, 11, 19],\n",
       "       [19, 16, 16, 11,  7],\n",
       "       [ 8, 10,  8,  6,  7],\n",
       "       [ 5, 18, 16, 10, 18],\n",
       "       [18, 16, 15,  6, 10],\n",
       "       [18, 18, 13, 18,  5],\n",
       "       [12, 17,  8,  9, 13],\n",
       "       [ 8,  5,  5, 19, 15],\n",
       "       [13, 15, 18, 15,  8],\n",
       "       [10, 12, 14, 15, 12],\n",
       "       [11, 13,  6, 11,  7],\n",
       "       [10, 14, 15, 15,  6],\n",
       "       [19, 13, 13,  8,  6],\n",
       "       [16, 11,  7, 15, 19]])"
      ]
     },
     "execution_count": 23,
     "metadata": {},
     "output_type": "execute_result"
    }
   ],
   "source": [
    "np.array(df)"
   ]
  },
  {
   "cell_type": "code",
   "execution_count": 24,
   "id": "f4419fe5",
   "metadata": {
    "scrolled": true
   },
   "outputs": [
    {
     "data": {
      "text/plain": [
       "array([[ 5, 19, 16,  9,  7],\n",
       "       [13,  7, 16, 12, 16],\n",
       "       [10, 17,  6, 11,  9],\n",
       "       [17, 10, 18, 17, 15],\n",
       "       [ 8, 17,  7,  6,  6],\n",
       "       [19, 10,  5, 14, 18],\n",
       "       [12,  6, 16, 11, 19],\n",
       "       [19, 16, 16, 11,  7],\n",
       "       [ 8, 10,  8,  6,  7],\n",
       "       [ 5, 18, 16, 10, 18],\n",
       "       [18, 16, 15,  6, 10],\n",
       "       [18, 18, 13, 18,  5],\n",
       "       [12, 17,  8,  9, 13],\n",
       "       [ 8,  5,  5, 19, 15],\n",
       "       [13, 15, 18, 15,  8],\n",
       "       [10, 12, 14, 15, 12],\n",
       "       [11, 13,  6, 11,  7],\n",
       "       [10, 14, 15, 15,  6],\n",
       "       [19, 13, 13,  8,  6],\n",
       "       [16, 11,  7, 15, 19]])"
      ]
     },
     "execution_count": 24,
     "metadata": {},
     "output_type": "execute_result"
    }
   ],
   "source": [
    "df.values"
   ]
  },
  {
   "cell_type": "code",
   "execution_count": null,
   "id": "719de146",
   "metadata": {},
   "outputs": [],
   "source": []
  },
  {
   "cell_type": "markdown",
   "id": "766a9112",
   "metadata": {},
   "source": [
    "Тип данных определяется для каждого столбца отдельно. Если данные в столбце целочисленные, то тип данных столбца будет int. Если данные в столбце вещественные, то тип данных всего столбца будет float.\n"
   ]
  },
  {
   "cell_type": "code",
   "execution_count": null,
   "id": "2b5ff6b2",
   "metadata": {},
   "outputs": [],
   "source": []
  },
  {
   "cell_type": "code",
   "execution_count": null,
   "id": "b5cb858d",
   "metadata": {},
   "outputs": [],
   "source": []
  },
  {
   "cell_type": "code",
   "execution_count": 25,
   "id": "d54c6cc7",
   "metadata": {},
   "outputs": [
    {
     "data": {
      "text/plain": [
       "dtype('int64')"
      ]
     },
     "execution_count": 25,
     "metadata": {},
     "output_type": "execute_result"
    }
   ],
   "source": [
    "df['numbers_0'].dtype"
   ]
  },
  {
   "cell_type": "code",
   "execution_count": null,
   "id": "9d2db4f4",
   "metadata": {},
   "outputs": [],
   "source": []
  },
  {
   "cell_type": "markdown",
   "id": "805ed1f9",
   "metadata": {},
   "source": [
    "\n",
    "Если в столбце находятся смешанные числовые данные, например, и int, и float, то тип данных столбца будет float. При этом все элементы в столбце будут приведены к типу float данных.\n"
   ]
  },
  {
   "cell_type": "code",
   "execution_count": null,
   "id": "fdff0e31",
   "metadata": {},
   "outputs": [],
   "source": []
  },
  {
   "cell_type": "code",
   "execution_count": 26,
   "id": "ecb4ecd5",
   "metadata": {
    "scrolled": true
   },
   "outputs": [
    {
     "data": {
      "text/plain": [
       "dtype('float64')"
      ]
     },
     "execution_count": 26,
     "metadata": {},
     "output_type": "execute_result"
    }
   ],
   "source": [
    "df['numbers_1'][4]=0.5\n",
    "df['numbers_1'].dtype\n"
   ]
  },
  {
   "cell_type": "code",
   "execution_count": 27,
   "id": "39176f26",
   "metadata": {},
   "outputs": [
    {
     "data": {
      "text/html": [
       "<div>\n",
       "<style scoped>\n",
       "    .dataframe tbody tr th:only-of-type {\n",
       "        vertical-align: middle;\n",
       "    }\n",
       "\n",
       "    .dataframe tbody tr th {\n",
       "        vertical-align: top;\n",
       "    }\n",
       "\n",
       "    .dataframe thead th {\n",
       "        text-align: right;\n",
       "    }\n",
       "</style>\n",
       "<table border=\"1\" class=\"dataframe\">\n",
       "  <thead>\n",
       "    <tr style=\"text-align: right;\">\n",
       "      <th></th>\n",
       "      <th>numbers_0</th>\n",
       "      <th>numbers_1</th>\n",
       "      <th>numbers_2</th>\n",
       "      <th>numbers_3</th>\n",
       "      <th>numbers_4</th>\n",
       "    </tr>\n",
       "  </thead>\n",
       "  <tbody>\n",
       "    <tr>\n",
       "      <th>0</th>\n",
       "      <td>5</td>\n",
       "      <td>19.0</td>\n",
       "      <td>16</td>\n",
       "      <td>9</td>\n",
       "      <td>7</td>\n",
       "    </tr>\n",
       "    <tr>\n",
       "      <th>1</th>\n",
       "      <td>13</td>\n",
       "      <td>7.0</td>\n",
       "      <td>16</td>\n",
       "      <td>12</td>\n",
       "      <td>16</td>\n",
       "    </tr>\n",
       "    <tr>\n",
       "      <th>2</th>\n",
       "      <td>10</td>\n",
       "      <td>17.0</td>\n",
       "      <td>6</td>\n",
       "      <td>11</td>\n",
       "      <td>9</td>\n",
       "    </tr>\n",
       "    <tr>\n",
       "      <th>3</th>\n",
       "      <td>17</td>\n",
       "      <td>10.0</td>\n",
       "      <td>18</td>\n",
       "      <td>17</td>\n",
       "      <td>15</td>\n",
       "    </tr>\n",
       "    <tr>\n",
       "      <th>4</th>\n",
       "      <td>8</td>\n",
       "      <td>0.5</td>\n",
       "      <td>7</td>\n",
       "      <td>6</td>\n",
       "      <td>6</td>\n",
       "    </tr>\n",
       "  </tbody>\n",
       "</table>\n",
       "</div>"
      ],
      "text/plain": [
       "   numbers_0  numbers_1  numbers_2  numbers_3  numbers_4\n",
       "0          5       19.0         16          9          7\n",
       "1         13        7.0         16         12         16\n",
       "2         10       17.0          6         11          9\n",
       "3         17       10.0         18         17         15\n",
       "4          8        0.5          7          6          6"
      ]
     },
     "execution_count": 27,
     "metadata": {},
     "output_type": "execute_result"
    }
   ],
   "source": [
    "# Эта функция отоброжает первые несколько индексов , по default там 5\n",
    "df.head()"
   ]
  },
  {
   "cell_type": "code",
   "execution_count": null,
   "id": "992ded94",
   "metadata": {},
   "outputs": [],
   "source": []
  },
  {
   "cell_type": "code",
   "execution_count": 28,
   "id": "48d51773",
   "metadata": {},
   "outputs": [
    {
     "data": {
      "text/html": [
       "<div>\n",
       "<style scoped>\n",
       "    .dataframe tbody tr th:only-of-type {\n",
       "        vertical-align: middle;\n",
       "    }\n",
       "\n",
       "    .dataframe tbody tr th {\n",
       "        vertical-align: top;\n",
       "    }\n",
       "\n",
       "    .dataframe thead th {\n",
       "        text-align: right;\n",
       "    }\n",
       "</style>\n",
       "<table border=\"1\" class=\"dataframe\">\n",
       "  <thead>\n",
       "    <tr style=\"text-align: right;\">\n",
       "      <th></th>\n",
       "      <th>numbers_0</th>\n",
       "      <th>numbers_1</th>\n",
       "      <th>numbers_2</th>\n",
       "      <th>numbers_3</th>\n",
       "      <th>numbers_4</th>\n",
       "    </tr>\n",
       "  </thead>\n",
       "  <tbody>\n",
       "    <tr>\n",
       "      <th>15</th>\n",
       "      <td>10</td>\n",
       "      <td>12.0</td>\n",
       "      <td>14</td>\n",
       "      <td>15</td>\n",
       "      <td>12</td>\n",
       "    </tr>\n",
       "    <tr>\n",
       "      <th>16</th>\n",
       "      <td>11</td>\n",
       "      <td>13.0</td>\n",
       "      <td>6</td>\n",
       "      <td>11</td>\n",
       "      <td>7</td>\n",
       "    </tr>\n",
       "    <tr>\n",
       "      <th>17</th>\n",
       "      <td>10</td>\n",
       "      <td>14.0</td>\n",
       "      <td>15</td>\n",
       "      <td>15</td>\n",
       "      <td>6</td>\n",
       "    </tr>\n",
       "    <tr>\n",
       "      <th>18</th>\n",
       "      <td>19</td>\n",
       "      <td>13.0</td>\n",
       "      <td>13</td>\n",
       "      <td>8</td>\n",
       "      <td>6</td>\n",
       "    </tr>\n",
       "    <tr>\n",
       "      <th>19</th>\n",
       "      <td>16</td>\n",
       "      <td>11.0</td>\n",
       "      <td>7</td>\n",
       "      <td>15</td>\n",
       "      <td>19</td>\n",
       "    </tr>\n",
       "  </tbody>\n",
       "</table>\n",
       "</div>"
      ],
      "text/plain": [
       "    numbers_0  numbers_1  numbers_2  numbers_3  numbers_4\n",
       "15         10       12.0         14         15         12\n",
       "16         11       13.0          6         11          7\n",
       "17         10       14.0         15         15          6\n",
       "18         19       13.0         13          8          6\n",
       "19         16       11.0          7         15         19"
      ]
     },
     "execution_count": 28,
     "metadata": {},
     "output_type": "execute_result"
    }
   ],
   "source": [
    "# А эта функция отоброжает последние несколько индексов , по default там 5\n",
    "df.tail()"
   ]
  },
  {
   "cell_type": "code",
   "execution_count": null,
   "id": "9a326627",
   "metadata": {},
   "outputs": [],
   "source": []
  },
  {
   "cell_type": "markdown",
   "id": "147ec438",
   "metadata": {},
   "source": [
    "\n",
    "Дело в том, что в данных бывают пропуски. Если у нас есть int значения и во второй строке пропуск, то все данные в столбце будут приведены к типу вещественных, и тип данных столбца тоже будет float. "
   ]
  },
  {
   "cell_type": "code",
   "execution_count": 29,
   "id": "fa4973eb",
   "metadata": {},
   "outputs": [
    {
     "data": {
      "text/html": [
       "<div>\n",
       "<style scoped>\n",
       "    .dataframe tbody tr th:only-of-type {\n",
       "        vertical-align: middle;\n",
       "    }\n",
       "\n",
       "    .dataframe tbody tr th {\n",
       "        vertical-align: top;\n",
       "    }\n",
       "\n",
       "    .dataframe thead th {\n",
       "        text-align: right;\n",
       "    }\n",
       "</style>\n",
       "<table border=\"1\" class=\"dataframe\">\n",
       "  <thead>\n",
       "    <tr style=\"text-align: right;\">\n",
       "      <th></th>\n",
       "      <th>numbers_0</th>\n",
       "      <th>numbers_1</th>\n",
       "      <th>numbers_2</th>\n",
       "      <th>numbers_3</th>\n",
       "      <th>numbers_4</th>\n",
       "    </tr>\n",
       "  </thead>\n",
       "  <tbody>\n",
       "    <tr>\n",
       "      <th>0</th>\n",
       "      <td>5</td>\n",
       "      <td>19.0</td>\n",
       "      <td>16</td>\n",
       "      <td>9</td>\n",
       "      <td>7.0</td>\n",
       "    </tr>\n",
       "    <tr>\n",
       "      <th>1</th>\n",
       "      <td>13</td>\n",
       "      <td>7.0</td>\n",
       "      <td>16</td>\n",
       "      <td>12</td>\n",
       "      <td>16.0</td>\n",
       "    </tr>\n",
       "    <tr>\n",
       "      <th>2</th>\n",
       "      <td>10</td>\n",
       "      <td>17.0</td>\n",
       "      <td>6</td>\n",
       "      <td>11</td>\n",
       "      <td>NaN</td>\n",
       "    </tr>\n",
       "    <tr>\n",
       "      <th>3</th>\n",
       "      <td>17</td>\n",
       "      <td>10.0</td>\n",
       "      <td>18</td>\n",
       "      <td>17</td>\n",
       "      <td>15.0</td>\n",
       "    </tr>\n",
       "    <tr>\n",
       "      <th>4</th>\n",
       "      <td>8</td>\n",
       "      <td>0.5</td>\n",
       "      <td>7</td>\n",
       "      <td>6</td>\n",
       "      <td>6.0</td>\n",
       "    </tr>\n",
       "  </tbody>\n",
       "</table>\n",
       "</div>"
      ],
      "text/plain": [
       "   numbers_0  numbers_1  numbers_2  numbers_3  numbers_4\n",
       "0          5       19.0         16          9        7.0\n",
       "1         13        7.0         16         12       16.0\n",
       "2         10       17.0          6         11        NaN\n",
       "3         17       10.0         18         17       15.0\n",
       "4          8        0.5          7          6        6.0"
      ]
     },
     "execution_count": 29,
     "metadata": {},
     "output_type": "execute_result"
    }
   ],
   "source": [
    "df['numbers_4'][2]=np.nan\n",
    "df.head()"
   ]
  },
  {
   "cell_type": "code",
   "execution_count": 30,
   "id": "e69de6dd",
   "metadata": {},
   "outputs": [
    {
     "data": {
      "text/plain": [
       "numbers_0      int64\n",
       "numbers_1    float64\n",
       "numbers_2      int64\n",
       "numbers_3      int64\n",
       "numbers_4    float64\n",
       "dtype: object"
      ]
     },
     "execution_count": 30,
     "metadata": {},
     "output_type": "execute_result"
    }
   ],
   "source": [
    "df.dtypes"
   ]
  },
  {
   "cell_type": "code",
   "execution_count": null,
   "id": "a26595af",
   "metadata": {},
   "outputs": [],
   "source": []
  },
  {
   "cell_type": "markdown",
   "id": "8dbfd9a0",
   "metadata": {},
   "source": [
    "Если в строке есть хотя бы один строковый элемент, то этот столбец будет автоматически определён как тип object."
   ]
  },
  {
   "cell_type": "code",
   "execution_count": 31,
   "id": "17cf37df",
   "metadata": {},
   "outputs": [
    {
     "data": {
      "text/html": [
       "<div>\n",
       "<style scoped>\n",
       "    .dataframe tbody tr th:only-of-type {\n",
       "        vertical-align: middle;\n",
       "    }\n",
       "\n",
       "    .dataframe tbody tr th {\n",
       "        vertical-align: top;\n",
       "    }\n",
       "\n",
       "    .dataframe thead th {\n",
       "        text-align: right;\n",
       "    }\n",
       "</style>\n",
       "<table border=\"1\" class=\"dataframe\">\n",
       "  <thead>\n",
       "    <tr style=\"text-align: right;\">\n",
       "      <th></th>\n",
       "      <th>numbers_0</th>\n",
       "      <th>numbers_1</th>\n",
       "      <th>numbers_2</th>\n",
       "      <th>numbers_3</th>\n",
       "      <th>numbers_4</th>\n",
       "    </tr>\n",
       "  </thead>\n",
       "  <tbody>\n",
       "    <tr>\n",
       "      <th>0</th>\n",
       "      <td>5</td>\n",
       "      <td>19.0</td>\n",
       "      <td>16</td>\n",
       "      <td>9</td>\n",
       "      <td>7.0</td>\n",
       "    </tr>\n",
       "    <tr>\n",
       "      <th>1</th>\n",
       "      <td>13</td>\n",
       "      <td>7.0</td>\n",
       "      <td>16</td>\n",
       "      <td>12</td>\n",
       "      <td>16.0</td>\n",
       "    </tr>\n",
       "    <tr>\n",
       "      <th>2</th>\n",
       "      <td>10</td>\n",
       "      <td>17.0</td>\n",
       "      <td>6</td>\n",
       "      <td>11</td>\n",
       "      <td>NaN</td>\n",
       "    </tr>\n",
       "    <tr>\n",
       "      <th>3</th>\n",
       "      <td>17</td>\n",
       "      <td>10.0</td>\n",
       "      <td>18</td>\n",
       "      <td>17</td>\n",
       "      <td>15.0</td>\n",
       "    </tr>\n",
       "    <tr>\n",
       "      <th>4</th>\n",
       "      <td>строка</td>\n",
       "      <td>0.5</td>\n",
       "      <td>7</td>\n",
       "      <td>6</td>\n",
       "      <td>6.0</td>\n",
       "    </tr>\n",
       "  </tbody>\n",
       "</table>\n",
       "</div>"
      ],
      "text/plain": [
       "  numbers_0  numbers_1  numbers_2  numbers_3  numbers_4\n",
       "0         5       19.0         16          9        7.0\n",
       "1        13        7.0         16         12       16.0\n",
       "2        10       17.0          6         11        NaN\n",
       "3        17       10.0         18         17       15.0\n",
       "4    строка        0.5          7          6        6.0"
      ]
     },
     "execution_count": 31,
     "metadata": {},
     "output_type": "execute_result"
    }
   ],
   "source": [
    "df['numbers_0'][4]='строка'\n",
    "df.head()"
   ]
  },
  {
   "cell_type": "code",
   "execution_count": 32,
   "id": "32736f05",
   "metadata": {},
   "outputs": [
    {
     "data": {
      "text/plain": [
       "numbers_0     object\n",
       "numbers_1    float64\n",
       "numbers_2      int64\n",
       "numbers_3      int64\n",
       "numbers_4    float64\n",
       "dtype: object"
      ]
     },
     "execution_count": 32,
     "metadata": {},
     "output_type": "execute_result"
    }
   ],
   "source": [
    "df.dtypes"
   ]
  },
  {
   "cell_type": "code",
   "execution_count": null,
   "id": "88fbec2f",
   "metadata": {},
   "outputs": [],
   "source": []
  },
  {
   "cell_type": "code",
   "execution_count": 33,
   "id": "09b82078",
   "metadata": {
    "scrolled": true
   },
   "outputs": [
    {
     "data": {
      "text/html": [
       "<div>\n",
       "<style scoped>\n",
       "    .dataframe tbody tr th:only-of-type {\n",
       "        vertical-align: middle;\n",
       "    }\n",
       "\n",
       "    .dataframe tbody tr th {\n",
       "        vertical-align: top;\n",
       "    }\n",
       "\n",
       "    .dataframe thead th {\n",
       "        text-align: right;\n",
       "    }\n",
       "</style>\n",
       "<table border=\"1\" class=\"dataframe\">\n",
       "  <thead>\n",
       "    <tr style=\"text-align: right;\">\n",
       "      <th></th>\n",
       "      <th>numbers_0</th>\n",
       "      <th>numbers_1</th>\n",
       "      <th>numbers_2</th>\n",
       "      <th>numbers_3</th>\n",
       "      <th>numbers_4</th>\n",
       "    </tr>\n",
       "  </thead>\n",
       "  <tbody>\n",
       "    <tr>\n",
       "      <th>0</th>\n",
       "      <td>5</td>\n",
       "      <td>19.0</td>\n",
       "      <td>16</td>\n",
       "      <td>9</td>\n",
       "      <td>7.0</td>\n",
       "    </tr>\n",
       "    <tr>\n",
       "      <th>1</th>\n",
       "      <td>13</td>\n",
       "      <td>7.0</td>\n",
       "      <td>16</td>\n",
       "      <td>12</td>\n",
       "      <td>16.0</td>\n",
       "    </tr>\n",
       "    <tr>\n",
       "      <th>2</th>\n",
       "      <td>10</td>\n",
       "      <td>17.0</td>\n",
       "      <td>6</td>\n",
       "      <td>11</td>\n",
       "      <td>NaN</td>\n",
       "    </tr>\n",
       "    <tr>\n",
       "      <th>3</th>\n",
       "      <td>17</td>\n",
       "      <td>10.0</td>\n",
       "      <td>18</td>\n",
       "      <td>17</td>\n",
       "      <td>15.0</td>\n",
       "    </tr>\n",
       "    <tr>\n",
       "      <th>4</th>\n",
       "      <td>строка</td>\n",
       "      <td>0.5</td>\n",
       "      <td>7</td>\n",
       "      <td>6</td>\n",
       "      <td>6.0</td>\n",
       "    </tr>\n",
       "  </tbody>\n",
       "</table>\n",
       "</div>"
      ],
      "text/plain": [
       "  numbers_0  numbers_1  numbers_2  numbers_3  numbers_4\n",
       "0         5       19.0         16          9        7.0\n",
       "1        13        7.0         16         12       16.0\n",
       "2        10       17.0          6         11        NaN\n",
       "3        17       10.0         18         17       15.0\n",
       "4    строка        0.5          7          6        6.0"
      ]
     },
     "execution_count": 33,
     "metadata": {},
     "output_type": "execute_result"
    }
   ],
   "source": [
    "df.head()"
   ]
  },
  {
   "cell_type": "code",
   "execution_count": 34,
   "id": "591ea52a",
   "metadata": {},
   "outputs": [],
   "source": [
    "# Сделаем выборку из df в df_1 напишем 2 columns ,index которые есть в нём и 2 которые отсутствуют .\n",
    "df_1=pd.DataFrame(data=df,\n",
    "                  index=[1,2,111, 222],\n",
    "                  columns=[ 'names', 'numbers_0','surnames','numbers_1'])\n"
   ]
  },
  {
   "cell_type": "code",
   "execution_count": 35,
   "id": "269d026c",
   "metadata": {},
   "outputs": [
    {
     "data": {
      "text/html": [
       "<div>\n",
       "<style scoped>\n",
       "    .dataframe tbody tr th:only-of-type {\n",
       "        vertical-align: middle;\n",
       "    }\n",
       "\n",
       "    .dataframe tbody tr th {\n",
       "        vertical-align: top;\n",
       "    }\n",
       "\n",
       "    .dataframe thead th {\n",
       "        text-align: right;\n",
       "    }\n",
       "</style>\n",
       "<table border=\"1\" class=\"dataframe\">\n",
       "  <thead>\n",
       "    <tr style=\"text-align: right;\">\n",
       "      <th></th>\n",
       "      <th>names</th>\n",
       "      <th>numbers_0</th>\n",
       "      <th>surnames</th>\n",
       "      <th>numbers_1</th>\n",
       "    </tr>\n",
       "  </thead>\n",
       "  <tbody>\n",
       "    <tr>\n",
       "      <th>1</th>\n",
       "      <td>NaN</td>\n",
       "      <td>13</td>\n",
       "      <td>NaN</td>\n",
       "      <td>7.0</td>\n",
       "    </tr>\n",
       "    <tr>\n",
       "      <th>2</th>\n",
       "      <td>NaN</td>\n",
       "      <td>10</td>\n",
       "      <td>NaN</td>\n",
       "      <td>17.0</td>\n",
       "    </tr>\n",
       "    <tr>\n",
       "      <th>111</th>\n",
       "      <td>NaN</td>\n",
       "      <td>NaN</td>\n",
       "      <td>NaN</td>\n",
       "      <td>NaN</td>\n",
       "    </tr>\n",
       "    <tr>\n",
       "      <th>222</th>\n",
       "      <td>NaN</td>\n",
       "      <td>NaN</td>\n",
       "      <td>NaN</td>\n",
       "      <td>NaN</td>\n",
       "    </tr>\n",
       "  </tbody>\n",
       "</table>\n",
       "</div>"
      ],
      "text/plain": [
       "     names numbers_0  surnames  numbers_1\n",
       "1      NaN        13       NaN        7.0\n",
       "2      NaN        10       NaN       17.0\n",
       "111    NaN       NaN       NaN        NaN\n",
       "222    NaN       NaN       NaN        NaN"
      ]
     },
     "execution_count": 35,
     "metadata": {},
     "output_type": "execute_result"
    }
   ],
   "source": [
    "#Ошибки не было и pandas сам создал колонки (names ,surnames), и индексы (111,222) и заполнил их NaN \n",
    "df_1"
   ]
  },
  {
   "cell_type": "code",
   "execution_count": null,
   "id": "89e47a89",
   "metadata": {},
   "outputs": [],
   "source": []
  },
  {
   "cell_type": "code",
   "execution_count": 36,
   "id": "43eb0f06",
   "metadata": {},
   "outputs": [],
   "source": [
    "# А теперь посмотрим как pandas выравнивает индексы\n",
    "# для этого создадим два Series c разными индексами и попробуем из них получить DataFrame"
   ]
  },
  {
   "cell_type": "code",
   "execution_count": 37,
   "id": "8a6ed603",
   "metadata": {},
   "outputs": [
    {
     "name": "stdout",
     "output_type": "stream",
     "text": [
      "1    21\n",
      "3    23\n",
      "6    25\n",
      "7    33\n",
      "8    24\n",
      "9    25\n",
      "Name: series_1, dtype: int64\n",
      "\n",
      "2     45\n",
      "34    66\n",
      "55    77\n",
      "6     88\n",
      "8     67\n",
      "22    90\n",
      "Name: series_2, dtype: int64\n"
     ]
    }
   ],
   "source": [
    "series_1=pd.Series(data=[21,23,25,33,24,25],\n",
    "                   index=[1,3,6,7,8,9],\n",
    "                   name='series_1')\n",
    "\n",
    "series_2=pd.Series(data=[45,66,77,88,67,90],\n",
    "                   index=[2,34,55,6,8,22],\n",
    "                   name='series_2')\n",
    "print(series_1, series_2, sep=\"\\n\\n\")"
   ]
  },
  {
   "cell_type": "code",
   "execution_count": 38,
   "id": "d80821a8",
   "metadata": {},
   "outputs": [
    {
     "data": {
      "text/html": [
       "<div>\n",
       "<style scoped>\n",
       "    .dataframe tbody tr th:only-of-type {\n",
       "        vertical-align: middle;\n",
       "    }\n",
       "\n",
       "    .dataframe tbody tr th {\n",
       "        vertical-align: top;\n",
       "    }\n",
       "\n",
       "    .dataframe thead th {\n",
       "        text-align: right;\n",
       "    }\n",
       "</style>\n",
       "<table border=\"1\" class=\"dataframe\">\n",
       "  <thead>\n",
       "    <tr style=\"text-align: right;\">\n",
       "      <th></th>\n",
       "      <th>series_1</th>\n",
       "      <th>series_2</th>\n",
       "    </tr>\n",
       "  </thead>\n",
       "  <tbody>\n",
       "    <tr>\n",
       "      <th>1</th>\n",
       "      <td>21.0</td>\n",
       "      <td>NaN</td>\n",
       "    </tr>\n",
       "    <tr>\n",
       "      <th>2</th>\n",
       "      <td>NaN</td>\n",
       "      <td>45.0</td>\n",
       "    </tr>\n",
       "    <tr>\n",
       "      <th>3</th>\n",
       "      <td>23.0</td>\n",
       "      <td>NaN</td>\n",
       "    </tr>\n",
       "    <tr>\n",
       "      <th>6</th>\n",
       "      <td>25.0</td>\n",
       "      <td>88.0</td>\n",
       "    </tr>\n",
       "    <tr>\n",
       "      <th>7</th>\n",
       "      <td>33.0</td>\n",
       "      <td>NaN</td>\n",
       "    </tr>\n",
       "    <tr>\n",
       "      <th>8</th>\n",
       "      <td>24.0</td>\n",
       "      <td>67.0</td>\n",
       "    </tr>\n",
       "    <tr>\n",
       "      <th>9</th>\n",
       "      <td>25.0</td>\n",
       "      <td>NaN</td>\n",
       "    </tr>\n",
       "    <tr>\n",
       "      <th>22</th>\n",
       "      <td>NaN</td>\n",
       "      <td>90.0</td>\n",
       "    </tr>\n",
       "    <tr>\n",
       "      <th>34</th>\n",
       "      <td>NaN</td>\n",
       "      <td>66.0</td>\n",
       "    </tr>\n",
       "    <tr>\n",
       "      <th>55</th>\n",
       "      <td>NaN</td>\n",
       "      <td>77.0</td>\n",
       "    </tr>\n",
       "  </tbody>\n",
       "</table>\n",
       "</div>"
      ],
      "text/plain": [
       "    series_1  series_2\n",
       "1       21.0       NaN\n",
       "2        NaN      45.0\n",
       "3       23.0       NaN\n",
       "6       25.0      88.0\n",
       "7       33.0       NaN\n",
       "8       24.0      67.0\n",
       "9       25.0       NaN\n",
       "22       NaN      90.0\n",
       "34       NaN      66.0\n",
       "55       NaN      77.0"
      ]
     },
     "execution_count": 38,
     "metadata": {},
     "output_type": "execute_result"
    }
   ],
   "source": [
    "pd.DataFrame({'series_1':series_1, 'series_2':series_2})"
   ]
  },
  {
   "cell_type": "code",
   "execution_count": null,
   "id": "fbc37ff5",
   "metadata": {},
   "outputs": [],
   "source": []
  },
  {
   "cell_type": "code",
   "execution_count": null,
   "id": "306a8259",
   "metadata": {},
   "outputs": [],
   "source": []
  },
  {
   "cell_type": "code",
   "execution_count": null,
   "id": "778962ab",
   "metadata": {},
   "outputs": [],
   "source": []
  },
  {
   "cell_type": "code",
   "execution_count": null,
   "id": "f7b91115",
   "metadata": {},
   "outputs": [],
   "source": []
  }
 ],
 "metadata": {
  "kernelspec": {
   "display_name": "Python 3 (ipykernel)",
   "language": "python",
   "name": "python3"
  },
  "language_info": {
   "codemirror_mode": {
    "name": "ipython",
    "version": 3
   },
   "file_extension": ".py",
   "mimetype": "text/x-python",
   "name": "python",
   "nbconvert_exporter": "python",
   "pygments_lexer": "ipython3",
   "version": "3.11.10"
  }
 },
 "nbformat": 4,
 "nbformat_minor": 5
}
